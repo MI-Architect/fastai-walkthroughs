{
 "cells": [
  {
   "cell_type": "markdown",
   "id": "ecc125e1-62e9-4096-bf34-b69a22f4dda1",
   "metadata": {},
   "source": [
    "# Walkthrough sample"
   ]
  },
  {
   "cell_type": "code",
   "execution_count": 1,
   "id": "6f975fac-4e3f-4a56-a316-40f6922a0de2",
   "metadata": {},
   "outputs": [],
   "source": [
    "from numpy import *"
   ]
  },
  {
   "cell_type": "code",
   "execution_count": 2,
   "id": "74104334-73a0-42ed-a597-a8317c694b24",
   "metadata": {},
   "outputs": [
    {
     "data": {
      "text/plain": [
       "2"
      ]
     },
     "execution_count": 2,
     "metadata": {},
     "output_type": "execute_result"
    }
   ],
   "source": [
    "1+1"
   ]
  }
 ],
 "metadata": {
  "kernelspec": {
   "display_name": "Python 3 (ipykernel)",
   "language": "python",
   "name": "python3"
  },
  "language_info": {
   "codemirror_mode": {
    "name": "ipython",
    "version": 3
   },
   "file_extension": ".py",
   "mimetype": "text/x-python",
   "name": "python",
   "nbconvert_exporter": "python",
   "pygments_lexer": "ipython3",
   "version": "3.10.12"
  }
 },
 "nbformat": 4,
 "nbformat_minor": 5
}
